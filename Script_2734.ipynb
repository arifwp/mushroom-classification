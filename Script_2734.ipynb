{
  "nbformat": 4,
  "nbformat_minor": 0,
  "metadata": {
    "colab": {
      "name": "Script_2734.ipynb",
      "provenance": [],
      "collapsed_sections": []
    },
    "kernelspec": {
      "name": "python3",
      "display_name": "Python 3"
    },
    "language_info": {
      "name": "python"
    }
  },
  "cells": [
    {
      "cell_type": "code",
      "source": [
        "import numpy as np\n",
        "import pandas as pd"
      ],
      "metadata": {
        "id": "SXlC47eLIotj"
      },
      "execution_count": 23,
      "outputs": []
    },
    {
      "cell_type": "code",
      "source": [
        "import io\n",
        "mush = pd.read_csv('mushrooms.csv')"
      ],
      "metadata": {
        "id": "Ok6nOxE1Iov6"
      },
      "execution_count": 26,
      "outputs": []
    },
    {
      "cell_type": "code",
      "source": [
        "mush.replace('?',np.nan,inplace=True)\n",
        "print(len(mush.columns),\"columns, after dropping NA,\",len(mush.dropna(axis=1).columns))\n",
        "mush.dropna(axis=1,inplace=True)"
      ],
      "metadata": {
        "colab": {
          "base_uri": "https://localhost:8080/"
        },
        "id": "2tUmobVYIoyC",
        "outputId": "4753b0f0-6490-4dec-de8e-54a4b01956a0"
      },
      "execution_count": 27,
      "outputs": [
        {
          "output_type": "stream",
          "name": "stdout",
          "text": [
            "23 columns, after dropping NA, 22\n"
          ]
        }
      ]
    },
    {
      "cell_type": "code",
      "source": [
        "target = 'class'\n",
        "features = mush.columns[mush.columns != target]\n",
        "classes = mush[target].unique()"
      ],
      "metadata": {
        "id": "rk9FP8TVI0wj"
      },
      "execution_count": 28,
      "outputs": []
    },
    {
      "cell_type": "code",
      "source": [
        "test = mush.sample(frac=0.3)\n",
        "mush = mush.drop(test.index)"
      ],
      "metadata": {
        "id": "DXCWRpCVI00q"
      },
      "execution_count": 29,
      "outputs": []
    },
    {
      "cell_type": "markdown",
      "source": [
        "Probabilities Calculation"
      ],
      "metadata": {
        "id": "vF2HutdMI2qP"
      }
    },
    {
      "cell_type": "code",
      "source": [
        "probs = {}\n",
        "probcl = {}\n",
        "for x in classes:\n",
        "    mushcl = mush[mush[target]==x][features]\n",
        "    clsp = {}\n",
        "    tot = len(mushcl)\n",
        "    for col in mushcl.columns:\n",
        "        colp = {}\n",
        "        for val,cnt in mushcl[col].value_counts().iteritems():\n",
        "            pr = cnt/tot\n",
        "            colp[val] = pr\n",
        "        clsp[col] = colp\n",
        "    probs[x] = clsp\n",
        "    probcl[x] = len(mushcl)/len(mush)"
      ],
      "metadata": {
        "id": "-hAa8VgHI5uL"
      },
      "execution_count": 31,
      "outputs": []
    },
    {
      "cell_type": "code",
      "source": [
        "def probabs(x):\n",
        "    #X - pandas Series with index as feature\n",
        "    if not isinstance(x,pd.Series):\n",
        "        raise IOError(\"Arg must of type Series\")\n",
        "    probab = {}\n",
        "    for cl in classes:\n",
        "        pr = probcl[cl]\n",
        "        for col,val in x.iteritems():\n",
        "            try:\n",
        "                pr *= probs[cl][col][val]\n",
        "            except KeyError:\n",
        "                pr = 0\n",
        "        probab[cl] = pr\n",
        "    return probab"
      ],
      "metadata": {
        "id": "BLh0n8OwI_XS"
      },
      "execution_count": 32,
      "outputs": []
    },
    {
      "cell_type": "code",
      "source": [
        "def classify(x):\n",
        "    probab = probabs(x)\n",
        "    mx = 0\n",
        "    mxcl = ''\n",
        "    for cl,pr in probab.items():\n",
        "        if pr > mx:\n",
        "            mx = pr\n",
        "            mxcl = cl\n",
        "    return mxcl"
      ],
      "metadata": {
        "id": "-XMxHGYzJAk6"
      },
      "execution_count": 33,
      "outputs": []
    },
    {
      "cell_type": "code",
      "source": [
        "#Train data\n",
        "b = []\n",
        "for i in mush.index:\n",
        "    #print(classify(mush.loc[i,features]),mush.loc[i,target])\n",
        "    b.append(classify(mush.loc[i,features]) == mush.loc[i,target])\n",
        "print(sum(b),\"correct of\",len(mush))\n",
        "print(\"Accuracy:\", sum(b)/len(mush))"
      ],
      "metadata": {
        "colab": {
          "base_uri": "https://localhost:8080/"
        },
        "id": "oYYT4kx8JCJa",
        "outputId": "f4c0fe0b-0c40-465c-94c0-e7d887d37e6e"
      },
      "execution_count": 34,
      "outputs": [
        {
          "output_type": "stream",
          "name": "stdout",
          "text": [
            "5675 correct of 5687\n",
            "Accuracy: 0.9978899243889573\n"
          ]
        }
      ]
    },
    {
      "cell_type": "code",
      "source": [
        "#Test data\n",
        "b = []\n",
        "for i in test.index:\n",
        "    #print(classify(mush.loc[i,features]),mush.loc[i,target])\n",
        "    b.append(classify(test.loc[i,features]) == test.loc[i,target])\n",
        "print(sum(b),\"correct of\",len(test))\n",
        "print(\"Accuracy:\",sum(b)/len(test))"
      ],
      "metadata": {
        "colab": {
          "base_uri": "https://localhost:8080/"
        },
        "id": "sUA94uumJDsS",
        "outputId": "1d3f4ffc-9d69-4617-8363-61eeab610a78"
      },
      "execution_count": 35,
      "outputs": [
        {
          "output_type": "stream",
          "name": "stdout",
          "text": [
            "2427 correct of 2437\n",
            "Accuracy: 0.9958965941731637\n"
          ]
        }
      ]
    }
  ]
}